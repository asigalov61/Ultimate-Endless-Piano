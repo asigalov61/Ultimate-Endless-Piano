{
  "cells": [
    {
      "cell_type": "markdown",
      "source": [
        "# Ultimate Endless Piano (ver. 1.0)\n",
        "\n",
        "***\n",
        "\n",
        "Powered by tegridy-tools: https://github.com/asigalov61/tegridy-tools\n",
        "\n",
        "***\n",
        "\n",
        "#### Project Los Angeles\n",
        "\n",
        "#### Tegridy Code 2024\n",
        "\n",
        "***"
      ],
      "metadata": {
        "id": "gpy3qsulqHa5"
      }
    },
    {
      "cell_type": "markdown",
      "source": [
        "# (GPU CHECK)"
      ],
      "metadata": {
        "id": "W_So4w8fqPGL"
      }
    },
    {
      "cell_type": "code",
      "execution_count": null,
      "metadata": {
        "id": "X3rABEpKCO02",
        "cellView": "form"
      },
      "outputs": [],
      "source": [
        "#@title NVIDIA GPU check\n",
        "!nvidia-smi"
      ]
    },
    {
      "cell_type": "markdown",
      "source": [
        "# (SETUP ENVIRONMENT)"
      ],
      "metadata": {
        "id": "C0XxnXGFqVyh"
      }
    },
    {
      "cell_type": "code",
      "execution_count": null,
      "metadata": {
        "id": "vK40g6V_BTNj",
        "cellView": "form"
      },
      "outputs": [],
      "source": [
        "#@title Install dependencies\n",
        "!git clone --depth 1 https://github.com/asigalov61/Ultimate-Endless-Piano\n",
        "!apt install fluidsynth # pip does not work for some reason. Only apt works"
      ]
    },
    {
      "cell_type": "code",
      "execution_count": null,
      "metadata": {
        "id": "DzCOZU_gBiQV",
        "cellView": "form"
      },
      "outputs": [],
      "source": [
        "#@title Import modules\n",
        "\n",
        "print('=' * 70)\n",
        "print('Loading core Ultimate Endless Piano modules...')\n",
        "\n",
        "import os\n",
        "import copy\n",
        "from tqdm import notebook\n",
        "from joblib import Parallel, delayed, parallel_config\n",
        "\n",
        "print('=' * 70)\n",
        "print('Loading main Ultimate Endless Piano modules...')\n",
        "import cupy as cp\n",
        "\n",
        "%cd /content/Ultimate-Endless-Piano\n",
        "\n",
        "import TMIDIX\n",
        "from midi_to_colab_audio import midi_to_colab_audio\n",
        "import random\n",
        "\n",
        "%cd /content/\n",
        "print('=' * 70)\n",
        "print('Loading aux Ultimate Endless Piano modules...')\n",
        "\n",
        "import matplotlib.pyplot as plt\n",
        "\n",
        "from sklearn import metrics\n",
        "\n",
        "from IPython.display import Audio, display\n",
        "\n",
        "from google.colab import files\n",
        "\n",
        "print('=' * 70)\n",
        "print('Creating IO dirs...')\n",
        "\n",
        "if not os.path.exists('/content/Dataset'):\n",
        "    os.makedirs('/content/Dataset')\n",
        "\n",
        "print('=' * 70)\n",
        "print('Done!')\n",
        "print('Enjoy! :)')\n",
        "print('=' * 70)"
      ]
    },
    {
      "cell_type": "markdown",
      "metadata": {
        "id": "eI3aQtHzqSnp"
      },
      "source": [
        "# (DOWNLOAD MIDI DATASET)"
      ]
    },
    {
      "cell_type": "code",
      "source": [
        "# @title POP909 MIDI Dataset (best quality of output/recommended)\n",
        "%cd /content/Dataset\n",
        "!git clone https://github.com/music-x-lab/POP909-Dataset\n",
        "%cd /content/"
      ],
      "metadata": {
        "cellView": "form",
        "id": "AXcm0PCm7ueB"
      },
      "execution_count": null,
      "outputs": []
    },
    {
      "cell_type": "code",
      "source": [
        "# @title Tegridy Piano MIDI Dataset (best speed/great for quick testing)\n",
        "%cd /content/Dataset\n",
        "!wget https://github.com/asigalov61/Tegridy-MIDI-Dataset/raw/master/Tegridy-Piano-CC-BY-NC-SA.zip\n",
        "!unzip Tegridy-Piano-CC-BY-NC-SA.zip\n",
        "!rm Tegridy-Piano-CC-BY-NC-SA.zip\n",
        "%cd /content/"
      ],
      "metadata": {
        "cellView": "form",
        "id": "8zcyS90qDuXz"
      },
      "execution_count": null,
      "outputs": []
    },
    {
      "cell_type": "markdown",
      "source": [
        "# (SAVE FILE LIST)"
      ],
      "metadata": {
        "id": "AqLlCIT_EqvX"
      }
    },
    {
      "cell_type": "code",
      "source": [
        "#@title Save file list\n",
        "###########\n",
        "\n",
        "print('=' * 70)\n",
        "print('Loading MIDI files...')\n",
        "print('This may take a while on a large dataset in particular.')\n",
        "\n",
        "dataset_addr = \"/content/Dataset\"\n",
        "\n",
        "filez = list()\n",
        "for (dirpath, dirnames, filenames) in os.walk(dataset_addr):\n",
        "    for file in filenames:\n",
        "        if file.endswith(('.mid', '.midi', '.kar')):\n",
        "            filez.append(os.path.join(dirpath, file))\n",
        "print('=' * 70)\n",
        "\n",
        "if filez == []:\n",
        "    print('Could not find any MIDI files. Please check Dataset dir...')\n",
        "    print('=' * 70)\n",
        "\n",
        "else:\n",
        "  print('Randomizing file list...')\n",
        "  random.shuffle(filez)\n",
        "  print('=' * 70)\n",
        "\n",
        "  TMIDIX.Tegridy_Any_Pickle_File_Writer(filez, '/content/filez')\n",
        "  print('=' * 70)\n",
        "\n",
        "print('Total number of discovered MIDIs:', len(filez))\n",
        "print('=' * 70)"
      ],
      "metadata": {
        "cellView": "form",
        "id": "hOcFxrYiLVVq"
      },
      "execution_count": null,
      "outputs": []
    },
    {
      "cell_type": "markdown",
      "source": [
        "# (LOAD TMIDIX MIDI PROCESSOR)"
      ],
      "metadata": {
        "id": "7_016zosEtTP"
      }
    },
    {
      "cell_type": "code",
      "source": [
        "#@title TMIDIX MIDI Processor\n",
        "\n",
        "print('=' * 70)\n",
        "print('Loading TMIDIX MIDI Processor...')\n",
        "print('=' * 70)\n",
        "\n",
        "def TMIDIX_MIDI_Processor(midi_file):\n",
        "\n",
        "    try:\n",
        "\n",
        "        fn = os.path.basename(midi_file)\n",
        "\n",
        "        #=======================================================\n",
        "        # START PROCESSING\n",
        "\n",
        "        raw_score = TMIDIX.midi2single_track_ms_score(midi_file)\n",
        "\n",
        "        escore_notes = TMIDIX.advanced_score_processor(raw_score, return_enhanced_score_notes=True)\n",
        "\n",
        "        if escore_notes:\n",
        "\n",
        "          escore = TMIDIX.augment_enhanced_score_notes(escore_notes[0], timings_divider=32)\n",
        "\n",
        "          cscore = TMIDIX.chordify_score([1000, escore])\n",
        "\n",
        "          checked_cscore = TMIDIX.check_and_fix_chords_in_chordified_score(cscore)[0]\n",
        "\n",
        "          #=======================================================\n",
        "          # MAIN PROCESSING CYCLE\n",
        "          #=======================================================\n",
        "\n",
        "          all_melody_chords = []\n",
        "\n",
        "          for tv in range(1):\n",
        "\n",
        "            melody_chords = []\n",
        "            pitches_chords = []\n",
        "\n",
        "            pc = checked_cscore[0]\n",
        "\n",
        "            for c in checked_cscore:\n",
        "\n",
        "              c.sort(key=lambda x: x[4], reverse=True)\n",
        "\n",
        "              dtime = max(0, min(127, c[0][1]-pc[0][1]))\n",
        "\n",
        "              durs = [max(0, min(127, d[2])) for d in c]\n",
        "              pitches = sorted(set([max(1, min(127, p[4]+tv)) for p in c]), reverse=True)\n",
        "              vels =  [max(0, min(127, d[5])) for d in c]\n",
        "\n",
        "              tones_chord = sorted(set([max(1, min(127, p[4]+tv)) % 12 for p in c]))\n",
        "\n",
        "              if tones_chord in TMIDIX.ALL_CHORDS_SORTED:\n",
        "                melody_chords.append(TMIDIX.ALL_CHORDS_SORTED.index(tones_chord))\n",
        "                pitches_chords.append([dtime] + [list(l) for l in zip(durs, pitches, vels)])\n",
        "\n",
        "              pc = c\n",
        "\n",
        "            all_melody_chords.append([melody_chords, pitches_chords])\n",
        "\n",
        "          #=======================================================\n",
        "\n",
        "          return all_melody_chords\n",
        "\n",
        "    except Exception as e:\n",
        "      print(e)\n",
        "      return None\n",
        "\n",
        "print('Done!')\n",
        "print('=' * 70)"
      ],
      "metadata": {
        "id": "shaUp5pMLV_W",
        "cellView": "form"
      },
      "execution_count": null,
      "outputs": []
    },
    {
      "cell_type": "markdown",
      "source": [
        "# (PROCESS MIDIs)"
      ],
      "metadata": {
        "id": "1iEc_oDxEydX"
      }
    },
    {
      "cell_type": "code",
      "source": [
        "#@title Process MIDIs with TMIDIX MIDI processor\n",
        "\n",
        "NUMBER_OF_PARALLEL_JOBS = 16 # Number of parallel jobs\n",
        "NUMBER_OF_FILES_PER_ITERATION = 16 # Number of files to queue for each parallel iteration\n",
        "SAVE_EVERY_NUMBER_OF_ITERATIONS = 160 # Save every 2560 files\n",
        "\n",
        "print('=' * 70)\n",
        "print('TMIDIX MIDI Processor')\n",
        "print('=' * 70)\n",
        "print('Starting up...')\n",
        "print('=' * 70)\n",
        "\n",
        "###########\n",
        "\n",
        "melody_chords_f = []\n",
        "\n",
        "files_count = 0\n",
        "good_files_count = 0\n",
        "\n",
        "print('Processing MIDI files. Please wait...')\n",
        "print('=' * 70)\n",
        "\n",
        "for i in notebook.tqdm_notebook(range(0, len(filez), NUMBER_OF_FILES_PER_ITERATION)):\n",
        "\n",
        "  with parallel_config(backend='threading', n_jobs=NUMBER_OF_PARALLEL_JOBS, verbose = 0):\n",
        "    output = Parallel(n_jobs=NUMBER_OF_PARALLEL_JOBS, verbose=0)(delayed(TMIDIX_MIDI_Processor)(f) for f in filez[i:i+NUMBER_OF_FILES_PER_ITERATION])\n",
        "\n",
        "  for o in output:\n",
        "\n",
        "      if o is not None:\n",
        "          melody_chords_f.extend(o)\n",
        "\n",
        "print('SAVING !!!')\n",
        "print('=' * 70)\n",
        "good_files_count += len(melody_chords_f)\n",
        "print('Saving processed files...')\n",
        "print('=' * 70)\n",
        "print('Processed:', good_files_count, 'out of', len(filez), '===', good_files_count / len(filez), 'good files ratio')\n",
        "print('=' * 70)\n",
        "count = str(i)\n",
        "TMIDIX.Tegridy_Any_Pickle_File_Writer(melody_chords_f, '/content/Processed_MIDIs')\n",
        "print('=' * 70)"
      ],
      "metadata": {
        "id": "uTp2_sZ4LZS6",
        "cellView": "form"
      },
      "execution_count": null,
      "outputs": []
    },
    {
      "cell_type": "markdown",
      "source": [
        "# (LOAD/RELOAD MIDIs)"
      ],
      "metadata": {
        "id": "LLDM4ht6E2h6"
      }
    },
    {
      "cell_type": "code",
      "source": [
        "# @title Load/reload processed MIDIs\n",
        "\n",
        "print('=' * 70)\n",
        "melody_chords_f = TMIDIX.Tegridy_Any_Pickle_File_Reader('/content/Processed_MIDIs')\n",
        "print('Done!')\n",
        "print('=' * 70)\n",
        "print('Number of loaded processed MIDIs:', len(melody_chords_f))\n",
        "print('=' * 70)"
      ],
      "metadata": {
        "id": "dq0lMrbBVarm",
        "cellView": "form"
      },
      "execution_count": null,
      "outputs": []
    },
    {
      "cell_type": "markdown",
      "source": [
        "# (PREP PROCESSED MIDIs)"
      ],
      "metadata": {
        "id": "Q7cdPTfGE9jN"
      }
    },
    {
      "cell_type": "code",
      "source": [
        "# @title Prep processed MIDIs\n",
        "chords_chunks_size = 12 # @param {type:\"slider\", min:4, max:32, step:1}\n",
        "\n",
        "print('=' * 70)\n",
        "print('Preparing chords chunks...')\n",
        "print('=' * 70)\n",
        "\n",
        "chunk_size = chords_chunks_size\n",
        "\n",
        "chords_chunks = []\n",
        "pitches_chunks = []\n",
        "\n",
        "intros_idxs = []\n",
        "\n",
        "total_chunks_count = 0\n",
        "\n",
        "for c in notebook.tqdm_notebook(melody_chords_f):\n",
        "\n",
        "  intros_idxs.append(total_chunks_count)\n",
        "\n",
        "  for i in range(len(c[0])-chunk_size):\n",
        "\n",
        "    chunk = c[0][i:i+chunk_size]\n",
        "\n",
        "    chords_chunks.append(chunk)\n",
        "\n",
        "    pchunk = c[1][i:i+chunk_size]\n",
        "    pitches_chunks.append(pchunk)\n",
        "\n",
        "    total_chunks_count += 1\n",
        "\n",
        "print('=' * 70)\n",
        "print('Creating main Cupy arrays...')\n",
        "print('=' * 70)\n",
        "\n",
        "chords_chunks = cp.array(chords_chunks)\n",
        "trg_chords_chunks = chords_chunks[:, :-1]\n",
        "\n",
        "print('Done!')\n",
        "print('=' * 70)\n",
        "print('Total number of chords chunks:', len(chords_chunks))\n",
        "print('=' * 70)"
      ],
      "metadata": {
        "id": "Cbs60W5NLf9-",
        "cellView": "form"
      },
      "execution_count": null,
      "outputs": []
    },
    {
      "cell_type": "markdown",
      "source": [
        "# (GENERATE MUSIC)"
      ],
      "metadata": {
        "id": "iRRvL8dOFLtw"
      }
    },
    {
      "cell_type": "code",
      "source": [
        "# @title Generate music\n",
        "start_with_intro = True # @param {type:\"boolean\"}\n",
        "number_of_generation_attempts = 100 # @param {type:\"slider\", min:10, max:200, step:1}\n",
        "number_of_chords_to_generate = 300 # @param {type:\"slider\", min:10, max:1000, step:5}\n",
        "max_overfit_ratio = 0.5 # @param {type:\"slider\", min:0.1, max:0.9, step:0.1}\n",
        "chords_memory_length = 16 # @param {type:\"slider\", min:-1, max:64, step:1}\n",
        "render_MIDI_to_audio = True # @param {type:\"boolean\"}\n",
        "verbose = False # @param {type:\"boolean\"}\n",
        "\n",
        "#===============================================================================\n",
        "\n",
        "num_tries = number_of_generation_attempts\n",
        "num_chords = number_of_chords_to_generate\n",
        "\n",
        "#===============================================================================\n",
        "\n",
        "print('=' * 70)\n",
        "print('Ultimate Endless Piano Music Generator')\n",
        "print('=' * 70)\n",
        "print('Generating...')\n",
        "print('=' * 70)\n",
        "\n",
        "for j in notebook.tqdm_notebook(range(num_tries)):\n",
        "\n",
        "  if start_with_intro:\n",
        "    src_idx = random.choice(intros_idxs)\n",
        "  else:\n",
        "    src_idx = random.randint(0, len(chords_chunks))\n",
        "\n",
        "  src_chords = chords_chunks[src_idx].tolist()\n",
        "  src_pitches = pitches_chunks[src_idx]\n",
        "\n",
        "  new_chords = []\n",
        "  new_pitches = []\n",
        "\n",
        "  new_chords.extend(src_chords)\n",
        "  new_pitches.extend(src_pitches)\n",
        "\n",
        "  previous_idxs = []\n",
        "  previous_idxs.append(src_idx)\n",
        "\n",
        "  counter = 0\n",
        "  match_ratios = [0]\n",
        "\n",
        "  for i in range(num_chords):\n",
        "\n",
        "    src_chunk = cp.array(new_chords[-chunk_size:])\n",
        "\n",
        "    idxs = cp.where((src_chunk[1:] == trg_chords_chunks).all(axis=1))\n",
        "    matches_idxs = cp.where(~(src_chunk == chords_chunks[idxs]).all(axis=1))[0]\n",
        "\n",
        "    if len(matches_idxs) > 0:\n",
        "      sel_matches_idxs = [id for id in idxs[0][matches_idxs.tolist()].tolist() if id-1 not in previous_idxs and id not in previous_idxs]\n",
        "\n",
        "      if sel_matches_idxs:\n",
        "\n",
        "        sel_match_idx = random.choice(sel_matches_idxs)\n",
        "        sel_match = chords_chunks[sel_match_idx]\n",
        "        new_chords.append(sel_match.tolist()[-1])\n",
        "        new_pitches.append(pitches_chunks[sel_match_idx][-1])\n",
        "\n",
        "        if chords_memory_length > 0:\n",
        "          previous_idxs.append(sel_match_idx)\n",
        "          previous_idxs = previous_idxs[-chords_memory_length:]\n",
        "\n",
        "        elif chords_memory_length == 0:\n",
        "          previous_idxs = []\n",
        "\n",
        "        elif chords_memory_length == -1:\n",
        "          previous_idxs.append(sel_match_idx)\n",
        "\n",
        "        counter += 1\n",
        "\n",
        "      else:\n",
        "        if verbose:\n",
        "          print('Failed to find good match!!!')\n",
        "          print('Retrying...')\n",
        "          print('=' * 70)\n",
        "        break\n",
        "\n",
        "    else:\n",
        "      if verbose:\n",
        "        print('Failed to find good match!!!')\n",
        "        print('Retrying...')\n",
        "        print('=' * 70)\n",
        "      break\n",
        "\n",
        "  if counter == num_chords:\n",
        "    if verbose:\n",
        "      print('Found possible match!')\n",
        "      print('Checking...')\n",
        "      print('=' * 70)\n",
        "\n",
        "    match_ratios = [0]\n",
        "    tqdmdis = not verbose\n",
        "    nchords = cp.array(new_chords)\n",
        "\n",
        "    for c in notebook.tqdm_notebook(melody_chords_f, disable=tqdmdis):\n",
        "      comp = cp.array(c[0])\n",
        "      len_range = min(len(nchords)-1, len(comp)-1)\n",
        "\n",
        "      # Create a sliding window view of 'comp' with a window length of 'len_range'\n",
        "      shape = (comp.size - len_range + 1, len_range)\n",
        "      strides = (comp.strides[0], comp.strides[0])\n",
        "      windows = cp.lib.stride_tricks.as_strided(comp, shape=shape, strides=strides)\n",
        "\n",
        "      # Compute match ratios for all windows at once\n",
        "      match_ratios_chunk = cp.sum(windows == nchords[:len_range], axis=1) / len_range\n",
        "\n",
        "      match_ratios.extend(match_ratios_chunk.tolist())\n",
        "\n",
        "      if cp.max(match_ratios_chunk) == 1.0:\n",
        "        if verbose:\n",
        "          print('Complete overfit!!!')\n",
        "          print('Starting new search...')\n",
        "          print('=' * 70)\n",
        "        break\n",
        "\n",
        "      elif max_overfit_ratio < cp.max(match_ratios_chunk) < 1.0:\n",
        "        if verbose:\n",
        "          print('High overfit:', cp.max(match_ratios_chunk))\n",
        "          print('Starting new search...')\n",
        "          print('=' * 70)\n",
        "        break\n",
        "\n",
        "    if max(match_ratios) < max_overfit_ratio:\n",
        "      if verbose:\n",
        "        print('Found good match!')\n",
        "        print('Overfit ratio:', max(match_ratios))\n",
        "        print('=' * 70)\n",
        "      break\n",
        "\n",
        "  else:\n",
        "    if verbose:\n",
        "      print('Failed to find good match!!!')\n",
        "      print('Retrying...')\n",
        "      print('=' * 70)\n",
        "#===============================================================================\n",
        "\n",
        "print('=' * 70)\n",
        "\n",
        "#===============================================================================\n",
        "\n",
        "if max(match_ratios) < max_overfit_ratio:\n",
        "\n",
        "  if not verbose:\n",
        "    print('Found good match!')\n",
        "    print('Overfit ratio:', max(match_ratios))\n",
        "\n",
        "  out1 = new_pitches\n",
        "\n",
        "  if verbose:\n",
        "    print('Sample INTs', out1[:12])\n",
        "    print('=' * 70)\n",
        "\n",
        "  if len(out1) != 0:\n",
        "\n",
        "      song = out1\n",
        "      song_f = []\n",
        "\n",
        "      time = 0\n",
        "      dur = 0\n",
        "      vel = 90\n",
        "      pitch = 0\n",
        "      channel = 0\n",
        "\n",
        "      patches = [0] * 16\n",
        "\n",
        "      for i, s in enumerate(song):\n",
        "\n",
        "          time += s[0] * 32\n",
        "\n",
        "          for d in s[1:]:\n",
        "\n",
        "            dur = d[0] * 32\n",
        "            ptc = d[1]\n",
        "            vel = d[2]\n",
        "\n",
        "            song_f.append(['note', time, dur, channel, ptc, vel, 0])\n",
        "\n",
        "\n",
        "  detailed_stats = TMIDIX.Tegridy_ms_SONG_to_MIDI_Converter(song_f,\n",
        "                                                          output_signature = 'Ultimate Endless Piano',\n",
        "                                                          output_file_name = '/content/Ultimate-Endless-Piano-Composition',\n",
        "                                                          track_name='Project Los Angeles',\n",
        "                                                          list_of_MIDI_patches=patches,\n",
        "                                                          verbose=verbose\n",
        "                                                          )\n",
        "\n",
        "  print('=' * 70)\n",
        "  print('Displaying resulting composition...')\n",
        "  print('=' * 70)\n",
        "\n",
        "  fname = '/content/Ultimate-Endless-Piano-Composition'\n",
        "\n",
        "  if render_MIDI_to_audio:\n",
        "    midi_audio = midi_to_colab_audio(fname + '.mid')\n",
        "    display(Audio(midi_audio, rate=16000, normalize=False))\n",
        "\n",
        "  TMIDIX.plot_ms_SONG(song_f, plot_title=fname)\n",
        "\n",
        "else:\n",
        "  print('Nothing to display!')\n",
        "  print('Please try again...')"
      ],
      "metadata": {
        "cellView": "form",
        "id": "k7iCVkb3ltq2"
      },
      "execution_count": null,
      "outputs": []
    },
    {
      "cell_type": "markdown",
      "source": [
        "# Congrats! You did it! :)"
      ],
      "metadata": {
        "id": "eoWDEy6CwDr6"
      }
    }
  ],
  "metadata": {
    "accelerator": "GPU",
    "colab": {
      "private_outputs": true,
      "provenance": [],
      "gpuType": "T4",
      "gpuClass": "premium"
    },
    "kernelspec": {
      "display_name": "Python 3",
      "name": "python3"
    },
    "language_info": {
      "codemirror_mode": {
        "name": "ipython",
        "version": 3
      },
      "file_extension": ".py",
      "mimetype": "text/x-python",
      "name": "python",
      "nbconvert_exporter": "python",
      "pygments_lexer": "ipython3",
      "version": "3.9.13"
    }
  },
  "nbformat": 4,
  "nbformat_minor": 0
}